{
 "cells": [
  {
   "cell_type": "code",
   "execution_count": null,
   "id": "3f81be46",
   "metadata": {},
   "outputs": [],
   "source": [
    "%matplotlib inline"
   ]
  },
  {
   "cell_type": "code",
   "execution_count": null,
   "id": "06517428",
   "metadata": {},
   "outputs": [],
   "source": [
    "import sys,os,importlib"
   ]
  },
  {
   "cell_type": "markdown",
   "id": "08442fee",
   "metadata": {},
   "source": [
    "### Manually set paths for now"
   ]
  },
  {
   "cell_type": "code",
   "execution_count": null,
   "id": "4141a129",
   "metadata": {},
   "outputs": [],
   "source": [
    "package_dirs=[os.path.join(os.pardir,'getdatatestbed'),os.pardir]\n",
    "yaml_dir=os.path.join(os.pardir,'yamls')\n",
    "output_dir=os.path.join(os.getenv('HOME'),'Public','code','dunex_sprint','products')\n",
    "datacache=os.path.join(os.getenv('HOME'),'Public','code','dunex_sprint','datacache')\n",
    "server='FRF'"
   ]
  },
  {
   "cell_type": "code",
   "execution_count": null,
   "id": "aff9f7c9",
   "metadata": {},
   "outputs": [],
   "source": [
    "global_yaml = os.path.join(yaml_dir,'IntegratedBathyTopo_Global.yml')\n",
    "var_yaml = os.path.join(yaml_dir,'IntegratedBathyTopo_grid_var.yml')\n"
   ]
  },
  {
   "cell_type": "code",
   "execution_count": null,
   "id": "af1ad59e",
   "metadata": {},
   "outputs": [],
   "source": [
    "for dd in package_dirs:\n",
    "    if dd not in sys.path:\n",
    "        print('appending {0} to system path for python import'.format(dd))\n",
    "        sys.path.append(dd)"
   ]
  },
  {
   "cell_type": "code",
   "execution_count": null,
   "id": "91e0eac8",
   "metadata": {},
   "outputs": [],
   "source": [
    "import numpy as np\n",
    "import pandas as pd\n",
    "import matplotlib.pyplot as plt\n",
    "import datetime as dt\n",
    "import scipy\n",
    "from scipy import interpolate\n",
    "import pickle\n",
    "import netCDF4\n",
    "import bathyTopoUtils as dut \n",
    "import testbedutils\n",
    "import testbedutils.py2netCDF as py2netCDF\n",
    "import testbedutils.geoprocess as geoprocess"
   ]
  },
  {
   "cell_type": "code",
   "execution_count": null,
   "id": "be0c7e43",
   "metadata": {},
   "outputs": [],
   "source": []
  },
  {
   "cell_type": "code",
   "execution_count": null,
   "id": "4958df82",
   "metadata": {},
   "outputs": [],
   "source": [
    "from ipywidgets import interact"
   ]
  },
  {
   "cell_type": "markdown",
   "id": "ac7d35d5",
   "metadata": {},
   "source": [
    "### Data\n",
    "Survey transects\n",
    "https://chldata.erdc.dren.mil/thredds/catalog/frf/geomorphology/elevationTransects/survey/catalog.html\n",
    "\n",
    "Dune lidar\n",
    "https://chldata.erdc.dren.mil/thredds/catalog/frf/geomorphology/DEMs/pierLidarDEM/catalog.html\n",
    "\n",
    "Pier lidar\n",
    "https://chldata.erdc.dren.mil/thredds/catalog/frf/geomorphology/DEMs/pierLidarDEM/catalog.html\n"
   ]
  },
  {
   "cell_type": "markdown",
   "id": "12abf924",
   "metadata": {},
   "source": [
    "## Steps:\n",
    "- Generate target grid for interpolation\n",
    "- Pick a time: grab survey, pier and dune lidar data sets using getFRFdata\n",
    "- interpolate everything for that day to the target grid, using constant extension in alongshore, see what you get in the cross-shore\n",
    "- Update daily with irregular new observations\n",
    "\n"
   ]
  },
  {
   "cell_type": "markdown",
   "id": "22f6c537",
   "metadata": {},
   "source": [
    "## Requirements, needs\n",
    "- We want to weight topo more than survey because of accuracy\n",
    "- We want to weight more recent values over older values\n",
    "- Topo will be multiple times per day,\n",
    "- We could try and grab low-tide values, or just grab all the values"
   ]
  },
  {
   "cell_type": "markdown",
   "id": "4637e445",
   "metadata": {},
   "source": [
    "## TODO\n",
    "- refactor main loop to go from date range to netcdf\n",
    "- write netcdf output file for bathy\n",
    "- figure out time conventions for running: day1 0 hours to day1+24 hours?\n",
    "- add diagnostic plots\n",
    "- add cross-validation points for calculating accuracy"
   ]
  },
  {
   "cell_type": "markdown",
   "id": "fe166df3",
   "metadata": {},
   "source": [
    "### Target grid resolution\n",
    "0-1400 in along shore, yFRF, 5 m resolution\n",
    "0-1100 in xFRF, 5 m resolution\n"
   ]
  },
  {
   "cell_type": "code",
   "execution_count": null,
   "id": "6a296664",
   "metadata": {},
   "outputs": [],
   "source": [
    "xlim=(0,1100.)\n",
    "ylim=(0,1400.)\n",
    "dx=(5.,5.)\n"
   ]
  },
  {
   "cell_type": "code",
   "execution_count": null,
   "id": "9471ebd4",
   "metadata": {},
   "outputs": [],
   "source": [
    "xx=np.arange(xlim[0],xlim[1],dx[0])\n",
    "yy=np.arange(ylim[0],ylim[1],dx[1])\n",
    "nx,ny=xx.size,yy.size\n",
    "XX,YY=np.meshgrid(xx,yy)\n",
    "assert XX.shape==(ny,nx)\n",
    "assert YY.shape==(ny,nx)"
   ]
  },
  {
   "cell_type": "markdown",
   "id": "55a3de27",
   "metadata": {},
   "source": [
    "## Time window"
   ]
  },
  {
   "cell_type": "code",
   "execution_count": null,
   "id": "e2fa2818",
   "metadata": {},
   "outputs": [],
   "source": [
    "d2=dt.datetime(year=2021,month=8,day=24)\n",
    "d1=d2-dt.timedelta(days=1)"
   ]
  },
  {
   "cell_type": "code",
   "execution_count": null,
   "id": "8d0e672b",
   "metadata": {},
   "outputs": [],
   "source": [
    "print('Trying to run from {0} to {1}'.format(d1.date(),d2.date()))"
   ]
  },
  {
   "cell_type": "code",
   "execution_count": null,
   "id": "c4ee89fb",
   "metadata": {},
   "outputs": [],
   "source": [
    "import getDataFRF"
   ]
  },
  {
   "cell_type": "code",
   "execution_count": null,
   "id": "efc0d1c2",
   "metadata": {},
   "outputs": [],
   "source": [
    "importlib.reload(getDataFRF)\n",
    "go = getDataFRF.getObs(d1,d2,server=server)"
   ]
  },
  {
   "cell_type": "code",
   "execution_count": null,
   "id": "7ccfac6c",
   "metadata": {},
   "outputs": [],
   "source": [
    "cross_check_fraction=0.05\n",
    "check_error=True"
   ]
  },
  {
   "cell_type": "code",
   "execution_count": null,
   "id": "bc4e255b",
   "metadata": {},
   "outputs": [],
   "source": [
    "interp_method='linear'"
   ]
  },
  {
   "cell_type": "markdown",
   "id": "35fb6188",
   "metadata": {},
   "source": [
    "## Load Dune and Pier lidar"
   ]
  },
  {
   "cell_type": "code",
   "execution_count": null,
   "id": "fada6289",
   "metadata": {},
   "outputs": [],
   "source": []
  },
  {
   "cell_type": "code",
   "execution_count": null,
   "id": "16b43c84",
   "metadata": {},
   "outputs": [],
   "source": [
    "repull=False\n",
    "if repull:\n",
    "    topo_dune = go.getLidarDEM(lidarLoc='dune')\n",
    "    pickle.dump(topo_dune, open(os.path.join(datacache, \"topo_dune_{0}.p\".format(d1.date())), \"wb\" ) )\n"
   ]
  },
  {
   "cell_type": "code",
   "execution_count": null,
   "id": "f058f4f8",
   "metadata": {},
   "outputs": [],
   "source": [
    "if 'topo_dune' not in globals():\n",
    "    topo_dune=pickle.load(open(os.path.join(datacache,\"topo_dune_{0}.p\".format(d1.date())),\"rb\"))"
   ]
  },
  {
   "cell_type": "markdown",
   "id": "35064e87",
   "metadata": {},
   "source": [
    "Topo elevation shape is ntimes, ny, nx"
   ]
  },
  {
   "cell_type": "code",
   "execution_count": null,
   "id": "3d4d4abd",
   "metadata": {},
   "outputs": [],
   "source": [
    "if topo_dune['elevation'].ndim==2: #must be 3d\n",
    "    topo_dune['elevation']=topo_dune['elevation'][np.newaxis,:,:]\n"
   ]
  },
  {
   "cell_type": "code",
   "execution_count": null,
   "id": "c9cafe83",
   "metadata": {},
   "outputs": [],
   "source": [
    "topo_dune.keys()"
   ]
  },
  {
   "cell_type": "code",
   "execution_count": null,
   "id": "7291dd09",
   "metadata": {},
   "outputs": [],
   "source": [
    "print('nx,ny for dune lidar = ({0},{1})'.format(topo_dune['xFRF'].shape[0],topo_dune['yFRF'].shape[0]))\n",
    "print('xFRF range for dune lidar = ({0},{1})'.format(topo_dune['xFRF'].min(),topo_dune['xFRF'].max()))\n",
    "print('yFRF range for dune lidar = ({0},{1})'.format(topo_dune['yFRF'].min(),topo_dune['yFRF'].max()))"
   ]
  },
  {
   "cell_type": "code",
   "execution_count": null,
   "id": "ca2e32fd",
   "metadata": {},
   "outputs": [],
   "source": [
    "print('nt,nx,ny for dune lidar = ({0},{1},{2})'.format(topo_dune['elevation'].shape[0],\n",
    "                                                   topo_dune['elevation'].shape[1],topo_dune['elevation'].shape[2]))"
   ]
  },
  {
   "cell_type": "code",
   "execution_count": null,
   "id": "046c7148",
   "metadata": {},
   "outputs": [],
   "source": [
    "Xdune,Ydune=np.meshgrid(topo_dune['xFRF'],topo_dune['yFRF'])"
   ]
  },
  {
   "cell_type": "code",
   "execution_count": null,
   "id": "f5602e4c",
   "metadata": {},
   "outputs": [],
   "source": [
    "points_dune=np.vstack((Xdune.flat[:],Ydune.flat[:])).T"
   ]
  },
  {
   "cell_type": "code",
   "execution_count": null,
   "id": "e31f5723",
   "metadata": {},
   "outputs": [],
   "source": [
    "def plot_lidar(X,Y,ztimes,it):\n",
    "    plt.pcolor(X,Y,ztimes[it],shading='auto')\n",
    "    plt.colorbar()\n",
    "def scatter_lidar(X,Y,ztimes,it):\n",
    "    plt.scatter(X,Y,c=ztimes[it].flat[:])\n",
    "    plt.xlim([X.min(),X.max()])\n",
    "    plt.ylim([Y.min(),Y.max()])\n",
    "    plt.colorbar()    "
   ]
  },
  {
   "cell_type": "code",
   "execution_count": null,
   "id": "1fa1ca17",
   "metadata": {},
   "outputs": [],
   "source": [
    "interact(lambda it: plot_lidar(Xdune,Ydune,topo_dune['elevation'],it), it=(0,topo_dune['elevation'].shape[0]-1))"
   ]
  },
  {
   "cell_type": "code",
   "execution_count": null,
   "id": "d6de5f20",
   "metadata": {},
   "outputs": [],
   "source": [
    "interact(lambda it: scatter_lidar(points_dune[:,0],points_dune[:,1],topo_dune['elevation'],it), it=(0,topo_dune['elevation'].shape[0]-1))"
   ]
  },
  {
   "cell_type": "code",
   "execution_count": null,
   "id": "2cc32f6a",
   "metadata": {},
   "outputs": [],
   "source": []
  },
  {
   "cell_type": "code",
   "execution_count": null,
   "id": "bec3495d",
   "metadata": {},
   "outputs": [],
   "source": [
    "repull=False\n",
    "if repull:\n",
    "    topo_pier = go.getLidarDEM(lidarLoc='pier')\n",
    "    pickle.dump(topo_pier, open(os.path.join(datacache,\"topo_pier_{0}.p\".format(d1.date())), \"wb\" ) )"
   ]
  },
  {
   "cell_type": "code",
   "execution_count": null,
   "id": "406b89d5",
   "metadata": {},
   "outputs": [],
   "source": [
    "if 'topo_pier' not in globals():\n",
    "    topo_pier=pickle.load(open(os.path.join(datacache,\"topo_pier_{0}.p\".format(d1.date())),\"rb\"))"
   ]
  },
  {
   "cell_type": "code",
   "execution_count": null,
   "id": "c63b3f1e",
   "metadata": {},
   "outputs": [],
   "source": [
    "if topo_pier['elevation'].ndim==2: #must be 3d\n",
    "    topo_pier['elevation']=topo_pier['elevation'][np.newaxis,:,:]\n"
   ]
  },
  {
   "cell_type": "code",
   "execution_count": null,
   "id": "8e9007dc",
   "metadata": {},
   "outputs": [],
   "source": [
    "print('nx,ny for pier lidar = ({0},{1})'.format(topo_pier['xFRF'].shape[0],topo_pier['yFRF'].shape[0]))\n",
    "print('xFRF range for pier lidar = ({0},{1})'.format(topo_pier['xFRF'].min(),topo_pier['xFRF'].max()))\n",
    "print('yFRF range for pier lidar = ({0},{1})'.format(topo_pier['yFRF'].min(),topo_pier['yFRF'].max()))"
   ]
  },
  {
   "cell_type": "code",
   "execution_count": null,
   "id": "9f901b8f",
   "metadata": {},
   "outputs": [],
   "source": [
    "print('nt,nx,ny for topo lidar = ({0},{1},{2})'.format(topo_pier['elevation'].shape[0],\n",
    "                                                       topo_pier['elevation'].shape[1],topo_pier['elevation'].shape[2]))"
   ]
  },
  {
   "cell_type": "code",
   "execution_count": null,
   "id": "e204c728",
   "metadata": {},
   "outputs": [],
   "source": [
    "Xpier,Ypier=np.meshgrid(topo_pier['xFRF'],topo_pier['yFRF'])"
   ]
  },
  {
   "cell_type": "code",
   "execution_count": null,
   "id": "5515f051",
   "metadata": {},
   "outputs": [],
   "source": [
    "points_pier=np.vstack((Xpier.flat[:],Ypier.flat[:])).T"
   ]
  },
  {
   "cell_type": "code",
   "execution_count": null,
   "id": "52f9e841",
   "metadata": {},
   "outputs": [],
   "source": [
    "interact(lambda it: plot_lidar(Xpier,Ypier,topo_pier['elevation'],it), it=(0,topo_pier['elevation'].shape[0]-1))"
   ]
  },
  {
   "cell_type": "code",
   "execution_count": null,
   "id": "b6b81b99",
   "metadata": {},
   "outputs": [],
   "source": [
    "interact(lambda it: scatter_lidar(points_pier[:,0],points_pier[:,1],topo_pier['elevation'],it), it=(0,topo_pier['elevation'].shape[0]-1))"
   ]
  },
  {
   "cell_type": "markdown",
   "id": "26371c15",
   "metadata": {},
   "source": [
    "## Interpoloate Dune and Pier lidar to target grid"
   ]
  },
  {
   "cell_type": "markdown",
   "id": "8ce46d0a",
   "metadata": {},
   "source": [
    "### Do one timestep"
   ]
  },
  {
   "cell_type": "code",
   "execution_count": null,
   "id": "8eeae8be",
   "metadata": {},
   "outputs": [],
   "source": [
    "dune_values0,dune_points0,Z_dune0=dut.interpolate_masked_lidar(Xdune,Ydune,topo_dune['elevation'][0],XX,YY,method=interp_method)\n"
   ]
  },
  {
   "cell_type": "code",
   "execution_count": null,
   "id": "4eb10058",
   "metadata": {},
   "outputs": [],
   "source": []
  },
  {
   "cell_type": "code",
   "execution_count": null,
   "id": "171d8b5e",
   "metadata": {},
   "outputs": [],
   "source": [
    "nt_dune=topo_dune['elevation'].shape[0]\n",
    "dune_values,dune_points,Z_dune=dut.interpolate_masked_lidar(np.tile(Xdune,(nt_dune,1,1)),\n",
    "                                                        np.tile(Ydune,(nt_dune,1,1)),\n",
    "                                                        topo_dune['elevation'],XX,YY,method=interp_method)"
   ]
  },
  {
   "cell_type": "code",
   "execution_count": null,
   "id": "e19bee23",
   "metadata": {},
   "outputs": [],
   "source": [
    "plt.pcolor(XX,YY,Z_dune,shading='auto')"
   ]
  },
  {
   "cell_type": "markdown",
   "id": "ce31916b",
   "metadata": {},
   "source": [
    "One time step"
   ]
  },
  {
   "cell_type": "code",
   "execution_count": null,
   "id": "caf88702",
   "metadata": {},
   "outputs": [],
   "source": [
    "pier_values0,pier_points0,Z_pier0=dut.interpolate_masked_lidar(Xpier,Ypier,topo_pier['elevation'][0],XX,YY,method=interp_method)"
   ]
  },
  {
   "cell_type": "code",
   "execution_count": null,
   "id": "d9ea996c",
   "metadata": {},
   "outputs": [],
   "source": [
    "plt.pcolor(XX,YY,Z_pier0,shading='auto')"
   ]
  },
  {
   "cell_type": "code",
   "execution_count": null,
   "id": "7794ce4f",
   "metadata": {},
   "outputs": [],
   "source": [
    "nt_pier=topo_pier['elevation'].shape[0]\n",
    "pier_values,pier_points,Z_pier=dut.interpolate_masked_lidar(np.tile(Xpier,(nt_pier,1,1)),\n",
    "                                                                np.tile(Ypier,(nt_pier,1,1)),topo_pier['elevation'],XX,YY,method='linear')"
   ]
  },
  {
   "cell_type": "code",
   "execution_count": null,
   "id": "f43d5a8e",
   "metadata": {},
   "outputs": [],
   "source": [
    "time_slice=0\n",
    "all_points1,all_values1,Z_all1=dut.combine_and_interpolate_masked_lidar([Xdune,Xpier],[Ydune,Ypier],\n",
    "                                                                 [topo_dune['elevation'][time_slice],\n",
    "                                                                  topo_pier['elevation'][time_slice]],\n",
    "                                                                 XX,YY,method='linear')"
   ]
  },
  {
   "cell_type": "code",
   "execution_count": null,
   "id": "868a9df0",
   "metadata": {},
   "outputs": [],
   "source": [
    "all_points,all_values,Z_all=dut.combine_and_interpolate_masked_lidar([np.tile(Xdune,(nt_dune,1,1)),\n",
    "                                                                  np.tile(Xpier,(nt_pier,1,1))],\n",
    "                                                                 [np.tile(Ydune,(nt_dune,1,1)),\n",
    "                                                                  np.tile(Ypier,(nt_pier,1,1))],\n",
    "                                                                 [topo_dune['elevation'],\n",
    "                                                                  topo_pier['elevation']],\n",
    "                                                                 XX,YY,method=interp_method)"
   ]
  },
  {
   "cell_type": "code",
   "execution_count": null,
   "id": "26427492",
   "metadata": {},
   "outputs": [],
   "source": [
    "plt.pcolor(XX,YY,Z_all,shading='auto')\n",
    "plt.colorbar()"
   ]
  },
  {
   "cell_type": "code",
   "execution_count": null,
   "id": "ddd7be1e",
   "metadata": {},
   "outputs": [],
   "source": [
    "interact(lambda ii: plt.plot(XX[ii,:],Z_all[ii,:],'b'),ii=(0,XX.shape[0]-1))"
   ]
  },
  {
   "cell_type": "markdown",
   "id": "739e4793",
   "metadata": {},
   "source": [
    "## Extend merged topo in alongshore direction"
   ]
  },
  {
   "cell_type": "code",
   "execution_count": null,
   "id": "f5dd8d01",
   "metadata": {},
   "outputs": [],
   "source": []
  },
  {
   "cell_type": "code",
   "execution_count": null,
   "id": "62d415a0",
   "metadata": {},
   "outputs": [],
   "source": [
    "Y_start_index,Y_end_index,Z_tmp=dut.extend_alongshore(XX,YY,Z_all)"
   ]
  },
  {
   "cell_type": "code",
   "execution_count": null,
   "id": "e0fb9441",
   "metadata": {},
   "outputs": [],
   "source": [
    "interact(lambda ii: plt.plot(XX[ii,:],Z_tmp[ii,:],'o'),ii=(0,XX.shape[1]))"
   ]
  },
  {
   "cell_type": "code",
   "execution_count": null,
   "id": "90d01241",
   "metadata": {},
   "outputs": [],
   "source": [
    "plt.pcolor(XX,YY,Z_tmp,shading='auto')\n",
    "plt.colorbar()\n",
    "plt.xlim([0,200])"
   ]
  },
  {
   "cell_type": "markdown",
   "id": "0e7958c9",
   "metadata": {},
   "source": [
    "## Load bathymetry transects"
   ]
  },
  {
   "cell_type": "code",
   "execution_count": null,
   "id": "394f66d1",
   "metadata": {},
   "outputs": [],
   "source": [
    "#times out\n",
    "repull=False\n",
    "if repull:\n",
    "    bathy_data = go.getBathyTransectFromNC()#(profilenumbers=960)\n",
    "    pickle.dump(bathy_data, open(os.path.join(datacache,\"bathy_data_{0}.p\".format(d1.date())), \"wb\" ) )\n"
   ]
  },
  {
   "cell_type": "code",
   "execution_count": null,
   "id": "5b599102",
   "metadata": {},
   "outputs": [],
   "source": [
    "if 'bathy_data' not in globals():\n",
    "    bathy_data=pickle.load(open(os.path.join(datacache,\"bathy_data_{0}.p\".format(d1.date())),\"rb\"))"
   ]
  },
  {
   "cell_type": "code",
   "execution_count": null,
   "id": "35a54761",
   "metadata": {},
   "outputs": [],
   "source": [
    "bathy_data.keys()"
   ]
  },
  {
   "cell_type": "code",
   "execution_count": null,
   "id": "a4968acb",
   "metadata": {},
   "outputs": [],
   "source": [
    "bathy_data['elevation'].shape,bathy_data['xFRF'].shape"
   ]
  },
  {
   "cell_type": "code",
   "execution_count": null,
   "id": "3c1bf620",
   "metadata": {},
   "outputs": [],
   "source": [
    "bathy_points=np.vstack((bathy_data['xFRF'],bathy_data['yFRF'])).T"
   ]
  },
  {
   "cell_type": "code",
   "execution_count": null,
   "id": "da53657e",
   "metadata": {},
   "outputs": [],
   "source": [
    "plt.scatter(bathy_points[:,0],bathy_points[:,1],c=bathy_data['elevation'])"
   ]
  },
  {
   "cell_type": "code",
   "execution_count": null,
   "id": "1bc4fefa",
   "metadata": {},
   "outputs": [],
   "source": [
    "points=np.vstack((all_points,bathy_points))\n",
    "values=np.concatenate((all_values,bathy_data['elevation']))"
   ]
  },
  {
   "cell_type": "code",
   "execution_count": null,
   "id": "195ef651",
   "metadata": {},
   "outputs": [],
   "source": []
  },
  {
   "cell_type": "code",
   "execution_count": null,
   "id": "34af162d",
   "metadata": {},
   "outputs": [],
   "source": [
    "## try to evaluate accuracy on a few points\n",
    "check_points=np.empty(shape=(0,2))\n",
    "check_values=np.empty(shape=(0,))\n",
    "if check_error:\n",
    "    check_points,check_values,new_points,new_values,check_inds=dut.extract_values_and_points(points,values,cross_check_fraction)\n",
    "    orig_points=points.copy()\n",
    "    orig_values=values.copy()\n",
    "    points=new_points\n",
    "    values=new_values\n"
   ]
  },
  {
   "cell_type": "code",
   "execution_count": null,
   "id": "c7fa642e",
   "metadata": {},
   "outputs": [],
   "source": [
    "print('Total number of data points is {0}'.format(points.shape[0]))"
   ]
  },
  {
   "cell_type": "code",
   "execution_count": null,
   "id": "e1fe4739",
   "metadata": {},
   "outputs": [],
   "source": [
    "Z_interp=scipy.interpolate.griddata(points,values,(XX,YY),method=interp_method,fill_value=np.nan)"
   ]
  },
  {
   "cell_type": "code",
   "execution_count": null,
   "id": "a0c4aab7",
   "metadata": {},
   "outputs": [],
   "source": [
    "plt.pcolor(XX,YY,Z_interp,shading='auto')"
   ]
  },
  {
   "cell_type": "code",
   "execution_count": null,
   "id": "0731c80f",
   "metadata": {},
   "outputs": [],
   "source": [
    "Y_start_index,Y_end_index,Z_gridded=dut.extend_alongshore(XX,YY,Z_interp)"
   ]
  },
  {
   "cell_type": "code",
   "execution_count": null,
   "id": "b4bb17cd",
   "metadata": {},
   "outputs": [],
   "source": [
    "interact(lambda ii: plt.plot(XX[ii,:],Z_gridded[ii,:],'-'),ii=(0,XX.shape[1]))"
   ]
  },
  {
   "cell_type": "code",
   "execution_count": null,
   "id": "cde9a934",
   "metadata": {},
   "outputs": [],
   "source": [
    "plt.pcolor(XX,YY,Z_gridded,shading='auto')"
   ]
  },
  {
   "cell_type": "markdown",
   "id": "f248f5a2",
   "metadata": {},
   "source": [
    "## Check the error"
   ]
  },
  {
   "cell_type": "code",
   "execution_count": null,
   "id": "6bf2c6c6",
   "metadata": {},
   "outputs": [],
   "source": [
    "RMSE=None\n",
    "if check_error:\n",
    "    Z_check=scipy.interpolate.griddata(points,values,check_points,method=interp_method,fill_value=np.nan)\n",
    "    diff=check_values-Z_check\n",
    "    RMSE=np.sqrt(np.sum(diff**2)/float(diff.size))\n",
    "    print('RMSE on {0}% random points is {1}'.format(cross_check_fraction,RMSE))\n"
   ]
  },
  {
   "cell_type": "code",
   "execution_count": null,
   "id": "adea37e4",
   "metadata": {},
   "outputs": [],
   "source": [
    "fig,plotname=dut.plot_bathy2d_with_obs(XX,YY,Z_gridded,points,cross_check_fraction,RMSE,d1.date(),plotdir=os.path.curdir,\n",
    "                          bathyTime=None, topoDuneTime=None, topoPierTime=None)\n",
    "fig"
   ]
  },
  {
   "cell_type": "markdown",
   "id": "071c2fce",
   "metadata": {},
   "source": [
    "## Write out the gridded bathy"
   ]
  },
  {
   "cell_type": "markdown",
   "id": "6592154f",
   "metadata": {},
   "source": [
    "### setup coordinates"
   ]
  },
  {
   "cell_type": "code",
   "execution_count": null,
   "id": "fc0d0b4b",
   "metadata": {},
   "outputs": [],
   "source": [
    "# get position stuff that will be constant for all surveys!!!\n",
    "xFRFi_vecN = XX.reshape((1, XX.shape[0] * XX.shape[1]))[0]\n",
    "yFRFi_vecN = YY.reshape((1, YY.shape[0] * YY.shape[1]))[0]\n",
    "# convert FRF coords to lat/lon\n",
    "test = geoprocess.FRF2ncsp(xFRFi_vecN, yFRFi_vecN)\n",
    "# go through stateplane to avoid FRFcoords trying to guess the input coordinate systems\n",
    "temp = geoprocess.ncsp2LatLon(test['StateplaneE'], test['StateplaneN'])\n",
    "lat_vec = temp['lat']\n",
    "lon_vec = temp['lon']\n",
    "E_vec = test['StateplaneE']\n",
    "N_vec = test['StateplaneN']\n",
    "\n",
    "latitude = lat_vec.reshape(XX.shape[0], XX.shape[1])\n",
    "longitude= lon_vec.reshape(XX.shape[0], XX.shape[1])\n",
    "easting  = E_vec.reshape(XX.shape[0], XX.shape[1])\n",
    "northing = N_vec.reshape(XX.shape[0], XX.shape[1])\n",
    "\n",
    "xFRF = XX[0, :]\n",
    "yFRF = YY[:, 1]\n"
   ]
  },
  {
   "cell_type": "code",
   "execution_count": null,
   "id": "d2d28fbb",
   "metadata": {},
   "outputs": [],
   "source": [
    "outfile='IntegratedBathyTopo-{0}.nc'.format(d1.date())"
   ]
  },
  {
   "cell_type": "code",
   "execution_count": null,
   "id": "7341e7fa",
   "metadata": {},
   "outputs": [],
   "source": [
    "nc_dict={}\n",
    "nc_dict['elevation'] = Z_gridded[np.newaxis,:,:]\n",
    "nc_dict['xFRF'] = xFRF\n",
    "nc_dict['yFRF'] = yFRF\n",
    "nc_dict['latitude'] = latitude\n",
    "nc_dict['longitude'] = longitude\n",
    "nc_dict['northing'] = northing\n",
    "nc_dict['easting'] = easting\n",
    "nc_dict['updateTime'] = np.ones_like(nc_dict['elevation'])*d1.timestamp()\n",
    "nc_dict['time'] = d1.timestamp()\n",
    "nc_dict['survey_time'] = np.nanmean(bathy_data['epochtime'])\n",
    "nc_dict['error_fraction'] = cross_check_fraction\n",
    "nc_dict['error_estimate'] = RMSE"
   ]
  },
  {
   "cell_type": "code",
   "execution_count": null,
   "id": "82a55aa2",
   "metadata": {},
   "outputs": [],
   "source": []
  },
  {
   "cell_type": "code",
   "execution_count": null,
   "id": "3804734a",
   "metadata": {},
   "outputs": [],
   "source": [
    "py2netCDF.makenc_generic(outfile,global_yaml,var_yaml,nc_dict)"
   ]
  },
  {
   "cell_type": "code",
   "execution_count": null,
   "id": "f23f8379",
   "metadata": {},
   "outputs": [],
   "source": [
    "foo=netCDF4.Dataset(outfile)"
   ]
  },
  {
   "cell_type": "code",
   "execution_count": null,
   "id": "ec529723",
   "metadata": {},
   "outputs": [],
   "source": [
    "foo"
   ]
  },
  {
   "cell_type": "code",
   "execution_count": null,
   "id": "6be1de94",
   "metadata": {},
   "outputs": [],
   "source": [
    "np.nanmax(np.absolute(foo['elevation'][0]-Z_gridded))"
   ]
  },
  {
   "cell_type": "code",
   "execution_count": null,
   "id": "3dfa8bec",
   "metadata": {},
   "outputs": [],
   "source": [
    "foo['survey_time'][:]"
   ]
  },
  {
   "cell_type": "code",
   "execution_count": null,
   "id": "d597c80a",
   "metadata": {},
   "outputs": [],
   "source": [
    "tmpx,tmpy=np.meshgrid(foo['xFRF'],foo['yFRF'])\n",
    "tmpz=foo['elevation'][0]\n"
   ]
  },
  {
   "cell_type": "code",
   "execution_count": null,
   "id": "c13532ef",
   "metadata": {},
   "outputs": [],
   "source": [
    "foo.close()"
   ]
  },
  {
   "cell_type": "code",
   "execution_count": null,
   "id": "267951ce",
   "metadata": {},
   "outputs": [],
   "source": [
    "plt.pcolor(tmpx,tmpy,tmpz,shading='auto')"
   ]
  },
  {
   "cell_type": "code",
   "execution_count": null,
   "id": "0a20e431",
   "metadata": {},
   "outputs": [],
   "source": []
  },
  {
   "cell_type": "code",
   "execution_count": null,
   "id": "a3aef9c0",
   "metadata": {},
   "outputs": [],
   "source": []
  }
 ],
 "metadata": {
  "kernelspec": {
   "display_name": "bathy",
   "language": "python",
   "name": "bathy"
  },
  "language_info": {
   "codemirror_mode": {
    "name": "ipython",
    "version": 3
   },
   "file_extension": ".py",
   "mimetype": "text/x-python",
   "name": "python",
   "nbconvert_exporter": "python",
   "pygments_lexer": "ipython3",
   "version": "3.8.8"
  },
  "latex_envs": {
   "LaTeX_envs_menu_present": true,
   "autoclose": false,
   "autocomplete": true,
   "bibliofile": "biblio.bib",
   "cite_by": "apalike",
   "current_citInitial": 1,
   "eqLabelWithNumbers": true,
   "eqNumInitial": 1,
   "hotkeys": {
    "equation": "Ctrl-E",
    "itemize": "Ctrl-I"
   },
   "labels_anchors": false,
   "latex_user_defs": false,
   "report_style_numbering": false,
   "user_envs_cfg": false
  }
 },
 "nbformat": 4,
 "nbformat_minor": 5
}
