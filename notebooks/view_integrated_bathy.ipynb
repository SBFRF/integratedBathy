{
 "cells": [
  {
   "cell_type": "code",
   "execution_count": null,
   "id": "3f81be46",
   "metadata": {},
   "outputs": [],
   "source": [
    "%matplotlib inline"
   ]
  },
  {
   "cell_type": "code",
   "execution_count": null,
   "id": "06517428",
   "metadata": {},
   "outputs": [],
   "source": [
    "import sys,os,importlib"
   ]
  },
  {
   "cell_type": "markdown",
   "id": "08442fee",
   "metadata": {},
   "source": [
    "### Manually set paths for now"
   ]
  },
  {
   "cell_type": "code",
   "execution_count": null,
   "id": "4141a129",
   "metadata": {},
   "outputs": [],
   "source": [
    "input_dir=os.path.join(os.getenv('HOME'),'Public','code','dunex_sprint','products')\n",
    "package_dirs=[os.path.join(os.pardir,'getdatatestbed')]"
   ]
  },
  {
   "cell_type": "code",
   "execution_count": null,
   "id": "aff9f7c9",
   "metadata": {},
   "outputs": [],
   "source": []
  },
  {
   "cell_type": "code",
   "execution_count": null,
   "id": "af1ad59e",
   "metadata": {},
   "outputs": [],
   "source": [
    "for dd in package_dirs:\n",
    "    if dd not in sys.path:\n",
    "        print('appending {0} to system path for python import'.format(dd))\n",
    "        sys.path.append(dd)"
   ]
  },
  {
   "cell_type": "code",
   "execution_count": null,
   "id": "91e0eac8",
   "metadata": {},
   "outputs": [],
   "source": [
    "import numpy as np\n",
    "import matplotlib.pyplot as plt\n",
    "import datetime as dt\n",
    "import netCDF4 as nc"
   ]
  },
  {
   "cell_type": "code",
   "execution_count": null,
   "id": "be0c7e43",
   "metadata": {},
   "outputs": [],
   "source": []
  },
  {
   "cell_type": "code",
   "execution_count": null,
   "id": "4958df82",
   "metadata": {},
   "outputs": [],
   "source": [
    "from ipywidgets import interact"
   ]
  },
  {
   "cell_type": "markdown",
   "id": "ac7d35d5",
   "metadata": {},
   "source": [
    "### Data\n",
    "Survey transects\n",
    "https://chldata.erdc.dren.mil/thredds/catalog/frf/geomorphology/elevationTransects/survey/catalog.html\n",
    "\n",
    "Dune lidar\n",
    "https://chldata.erdc.dren.mil/thredds/catalog/frf/geomorphology/DEMs/pierLidarDEM/catalog.html\n",
    "\n",
    "Pier lidar\n",
    "https://chldata.erdc.dren.mil/thredds/catalog/frf/geomorphology/DEMs/pierLidarDEM/catalog.html\n"
   ]
  },
  {
   "cell_type": "markdown",
   "id": "55a3de27",
   "metadata": {},
   "source": [
    "## Time window"
   ]
  },
  {
   "cell_type": "code",
   "execution_count": null,
   "id": "bb7a5ddd",
   "metadata": {},
   "outputs": [],
   "source": [
    "dSTR_s = '2021-07-22'"
   ]
  },
  {
   "cell_type": "code",
   "execution_count": null,
   "id": "9a9f7c1e",
   "metadata": {},
   "outputs": [],
   "source": [
    "d1=dt.datetime.strptime(dSTR_s[0:10]+'T00:00:00Z', '%Y-%m-%dT%H:%M:%SZ')\n"
   ]
  },
  {
   "cell_type": "code",
   "execution_count": null,
   "id": "aea0cebb",
   "metadata": {},
   "outputs": [],
   "source": [
    "bathyname='IntegratedBathyTopo-{0}.nc'.format(d1.date())\n",
    "bathyfile=os.path.join(input_dir,bathyname)"
   ]
  },
  {
   "cell_type": "code",
   "execution_count": null,
   "id": "0a927e23",
   "metadata": {},
   "outputs": [],
   "source": [
    "print('trying to read results from {0}'.format(bathyname))"
   ]
  },
  {
   "cell_type": "code",
   "execution_count": null,
   "id": "da8035d8",
   "metadata": {},
   "outputs": [],
   "source": [
    "assert os.path.isfile(bathyfile)"
   ]
  },
  {
   "cell_type": "code",
   "execution_count": null,
   "id": "24b528f9",
   "metadata": {},
   "outputs": [],
   "source": [
    "results=nc.Dataset(bathyfile,'r')"
   ]
  },
  {
   "cell_type": "code",
   "execution_count": null,
   "id": "2069bafa",
   "metadata": {},
   "outputs": [],
   "source": [
    "results"
   ]
  },
  {
   "cell_type": "code",
   "execution_count": null,
   "id": "42e55317",
   "metadata": {},
   "outputs": [],
   "source": [
    "XX,YY=np.meshgrid(results['xFRF'],results['yFRF'])\n",
    "Z_gridded=results['elevation'][0]"
   ]
  },
  {
   "cell_type": "code",
   "execution_count": null,
   "id": "560bba0c",
   "metadata": {},
   "outputs": [],
   "source": [
    "dt.datetime.fromtimestamp(int(results['time'][:]))"
   ]
  },
  {
   "cell_type": "code",
   "execution_count": null,
   "id": "2aa30b95",
   "metadata": {},
   "outputs": [],
   "source": [
    "interact(lambda ii: plt.plot(XX[ii,:],Z_gridded[ii,:],'-'),ii=(0,XX.shape[1]))\n"
   ]
  },
  {
   "cell_type": "code",
   "execution_count": null,
   "id": "b94ca400",
   "metadata": {
    "scrolled": true
   },
   "outputs": [],
   "source": [
    "plt.pcolor(XX,YY,Z_gridded,shading='auto')"
   ]
  },
  {
   "cell_type": "code",
   "execution_count": null,
   "id": "0a20e431",
   "metadata": {},
   "outputs": [],
   "source": []
  },
  {
   "cell_type": "code",
   "execution_count": null,
   "id": "a3aef9c0",
   "metadata": {},
   "outputs": [],
   "source": []
  }
 ],
 "metadata": {
  "kernelspec": {
   "display_name": "bathy",
   "language": "python",
   "name": "bathy"
  },
  "language_info": {
   "codemirror_mode": {
    "name": "ipython",
    "version": 3
   },
   "file_extension": ".py",
   "mimetype": "text/x-python",
   "name": "python",
   "nbconvert_exporter": "python",
   "pygments_lexer": "ipython3",
   "version": "3.8.8"
  },
  "latex_envs": {
   "LaTeX_envs_menu_present": true,
   "autoclose": false,
   "autocomplete": true,
   "bibliofile": "biblio.bib",
   "cite_by": "apalike",
   "current_citInitial": 1,
   "eqLabelWithNumbers": true,
   "eqNumInitial": 1,
   "hotkeys": {
    "equation": "Ctrl-E",
    "itemize": "Ctrl-I"
   },
   "labels_anchors": false,
   "latex_user_defs": false,
   "report_style_numbering": false,
   "user_envs_cfg": false
  }
 },
 "nbformat": 4,
 "nbformat_minor": 5
}
